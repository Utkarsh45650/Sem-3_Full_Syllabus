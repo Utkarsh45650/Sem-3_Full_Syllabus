{
  "cells": [
    {
      "cell_type": "markdown",
      "metadata": {
        "id": "vO_bSyRfC65y"
      },
      "source": [
        "\n"
      ]
    },
    {
      "cell_type": "markdown",
      "metadata": {
        "id": "06vXSnerChQL"
      },
      "source": [
        "Python Version"
      ]
    },
    {
      "cell_type": "code",
      "execution_count": null,
      "metadata": {
        "colab": {
          "base_uri": "https://localhost:8080/"
        },
        "id": "4QtUTbEZ2L5_",
        "outputId": "72c2e695-59aa-4e05-b5d2-87ac135aff36"
      },
      "outputs": [
        {
          "name": "stdout",
          "output_type": "stream",
          "text": [
            "3.11.12 (main, Apr  9 2025, 08:55:54) [GCC 11.4.0]\n"
          ]
        }
      ],
      "source": [
        "import sys\n",
        "print(sys.version)"
      ]
    },
    {
      "cell_type": "markdown",
      "metadata": {
        "id": "kxd7cxZYCluC"
      },
      "source": [
        "Display Hello World"
      ]
    },
    {
      "cell_type": "code",
      "execution_count": null,
      "metadata": {
        "colab": {
          "base_uri": "https://localhost:8080/"
        },
        "id": "x1mov9o82UFn",
        "outputId": "40c401e2-5e64-4f47-bd2b-d2872842c1ef"
      },
      "outputs": [
        {
          "name": "stdout",
          "output_type": "stream",
          "text": [
            "Hello World\n"
          ]
        }
      ],
      "source": [
        "print(\"Hello World\")"
      ]
    },
    {
      "cell_type": "markdown",
      "metadata": {
        "id": "e1THaXpiCpuJ"
      },
      "source": [
        "Use basic for loop"
      ]
    },
    {
      "cell_type": "code",
      "execution_count": null,
      "metadata": {
        "colab": {
          "base_uri": "https://localhost:8080/"
        },
        "id": "yeAsVmym24pP",
        "outputId": "58cf5d1f-d4e7-4680-fc35-ede3568fa451"
      },
      "outputs": [
        {
          "name": "stdout",
          "output_type": "stream",
          "text": [
            "0\n",
            "1\n",
            "2\n",
            "3\n",
            "4\n"
          ]
        }
      ],
      "source": [
        "for i in range(5):\n",
        "    print(i)"
      ]
    },
    {
      "cell_type": "code",
      "execution_count": null,
      "metadata": {
        "colab": {
          "base_uri": "https://localhost:8080/"
        },
        "id": "iXbpay9xBJsP",
        "outputId": "36872ac9-6705-448d-c110-f1d8e4bfbcaf"
      },
      "outputs": [
        {
          "name": "stdout",
          "output_type": "stream",
          "text": [
            "h\n",
            "e\n",
            "l\n",
            "l\n",
            "o\n"
          ]
        }
      ],
      "source": [
        "for char in \"hello\":\n",
        "    print(char)"
      ]
    },
    {
      "cell_type": "code",
      "execution_count": null,
      "metadata": {
        "colab": {
          "base_uri": "https://localhost:8080/"
        },
        "id": "Oai6CjgnBPSY",
        "outputId": "7666f8b9-293d-4a77-dcdc-31d52aa4c070"
      },
      "outputs": [
        {
          "name": "stdout",
          "output_type": "stream",
          "text": [
            "6\n"
          ]
        }
      ],
      "source": [
        "print(1+5)"
      ]
    },
    {
      "cell_type": "code",
      "execution_count": null,
      "metadata": {
        "colab": {
          "base_uri": "https://localhost:8080/"
        },
        "id": "OoOPpj1vEIHj",
        "outputId": "c3798e1d-5358-4865-ee46-581252b46bfa"
      },
      "outputs": [
        {
          "name": "stdout",
          "output_type": "stream",
          "text": [
            "68\n"
          ]
        }
      ],
      "source": [
        "print(10+58)"
      ]
    },
    {
      "cell_type": "code",
      "execution_count": null,
      "metadata": {
        "colab": {
          "base_uri": "https://localhost:8080/"
        },
        "id": "U6gFXWLpEbyK",
        "outputId": "5249e913-64c3-44ca-a955-71c78c011019"
      },
      "outputs": [
        {
          "name": "stdout",
          "output_type": "stream",
          "text": [
            "1000\n"
          ]
        }
      ],
      "source": [
        "num=1000\n",
        "print(num)"
      ]
    },
    {
      "cell_type": "code",
      "execution_count": null,
      "metadata": {
        "colab": {
          "base_uri": "https://localhost:8080/"
        },
        "id": "NQ82MzTEFd-F",
        "outputId": "b1a0cda4-2fc3-43bd-ee3e-77b13c64a93c"
      },
      "outputs": [
        {
          "name": "stdout",
          "output_type": "stream",
          "text": [
            "60\n"
          ]
        }
      ],
      "source": [
        "num=1000\n",
        "num=60\n",
        "print(num)"
      ]
    },
    {
      "cell_type": "code",
      "execution_count": null,
      "metadata": {
        "colab": {
          "base_uri": "https://localhost:8080/"
        },
        "id": "38NDnL5mFmHS",
        "outputId": "98e98bc0-25d3-4c3c-f586-0bd0cb857476"
      },
      "outputs": [
        {
          "name": "stdout",
          "output_type": "stream",
          "text": [
            "10752744\n"
          ]
        }
      ],
      "source": [
        "print(id(num))"
      ]
    },
    {
      "cell_type": "markdown",
      "metadata": {
        "id": "0djmyuOeHYrU"
      },
      "source": [
        "values are same in different object. So id is same"
      ]
    },
    {
      "cell_type": "code",
      "execution_count": null,
      "metadata": {
        "colab": {
          "base_uri": "https://localhost:8080/"
        },
        "id": "SF_8nbZMGOyR",
        "outputId": "bf6100d7-f64b-44ba-cd8e-23a1900aeb3f"
      },
      "outputs": [
        {
          "name": "stdout",
          "output_type": "stream",
          "text": [
            "10753704\n",
            "10753704\n"
          ]
        }
      ],
      "source": [
        "a=90\n",
        "b=90\n",
        "print(id(a))\n",
        "print(id(b))"
      ]
    },
    {
      "cell_type": "code",
      "execution_count": null,
      "metadata": {
        "colab": {
          "base_uri": "https://localhost:8080/"
        },
        "id": "qJmeW7QRHT8_",
        "outputId": "1ecd3464-cd3f-426f-ae12-9821a0f956fd"
      },
      "outputs": [
        {
          "name": "stdout",
          "output_type": "stream",
          "text": [
            "10753704\n",
            "10753736\n"
          ]
        }
      ],
      "source": [
        "a=90\n",
        "b=90+1\n",
        "print(id(a))\n",
        "print(id(b))"
      ]
    },
    {
      "cell_type": "code",
      "execution_count": null,
      "metadata": {
        "colab": {
          "base_uri": "https://localhost:8080/"
        },
        "id": "umjSsSJtHmHv",
        "outputId": "58fc7ae1-f038-4dd7-a397-7976f1de32d7"
      },
      "outputs": [
        {
          "name": "stdout",
          "output_type": "stream",
          "text": [
            "10753736\n",
            "10753736\n"
          ]
        }
      ],
      "source": [
        "a=90\n",
        "a=a+1\n",
        "print(id(a))\n",
        "print(id(a))"
      ]
    },
    {
      "cell_type": "code",
      "execution_count": null,
      "metadata": {
        "colab": {
          "base_uri": "https://localhost:8080/"
        },
        "id": "clX_HznTH67z",
        "outputId": "c2bfd3dc-77a5-4dc0-b031-54c04da877fa"
      },
      "outputs": [
        {
          "name": "stdout",
          "output_type": "stream",
          "text": [
            "10753704\n",
            "10753704\n"
          ]
        }
      ],
      "source": [
        "a=90\n",
        "b=90\n",
        "print(id(a))\n",
        "print(id(b))"
      ]
    },
    {
      "cell_type": "code",
      "execution_count": null,
      "metadata": {
        "colab": {
          "base_uri": "https://localhost:8080/"
        },
        "id": "Vk1Bk96bNIHC",
        "outputId": "538f3f7e-9d34-49b5-e846-b7049c4579c9"
      },
      "outputs": [
        {
          "name": "stdout",
          "output_type": "stream",
          "text": [
            "10753704\n",
            "10753736\n"
          ]
        }
      ],
      "source": [
        "a=90\n",
        "print(id(a))\n",
        "b=90+1\n",
        "print(id(b))"
      ]
    },
    {
      "cell_type": "code",
      "execution_count": null,
      "metadata": {
        "colab": {
          "base_uri": "https://localhost:8080/"
        },
        "id": "TZuyxKUSOb1a",
        "outputId": "4c85f52b-d78d-40f4-e4a3-2a39c54072a4"
      },
      "outputs": [
        {
          "name": "stdout",
          "output_type": "stream",
          "text": [
            "<class 'float'>\n"
          ]
        }
      ],
      "source": [
        "num=99.0\n",
        "print(type(num))"
      ]
    },
    {
      "cell_type": "code",
      "execution_count": 1,
      "metadata": {
        "colab": {
          "base_uri": "https://localhost:8080/"
        },
        "id": "vMJuP6nIPBvY",
        "outputId": "bc7bf01a-25a0-4089-981e-7ab23e120afc"
      },
      "outputs": [
        {
          "name": "stdout",
          "output_type": "stream",
          "text": [
            "<class 'str'>\n"
          ]
        }
      ],
      "source": [
        "num=\"abc\"\n",
        "print(type(num))"
      ]
    },
    {
      "cell_type": "code",
      "execution_count": null,
      "metadata": {
        "colab": {
          "base_uri": "https://localhost:8080/"
        },
        "id": "d3oGw0eDPiYl",
        "outputId": "9b6c1866-90ff-41c0-aa67-7787a74220e5"
      },
      "outputs": [
        {
          "name": "stdout",
          "output_type": "stream",
          "text": [
            "<class 'bool'>\n"
          ]
        }
      ],
      "source": [
        "num=True\n",
        "print(type(num))"
      ]
    },
    {
      "cell_type": "code",
      "execution_count": null,
      "metadata": {
        "colab": {
          "base_uri": "https://localhost:8080/"
        },
        "id": "JbqNTdN3Pn5g",
        "outputId": "69de2ca2-bdbf-4490-9b35-f7e7b693485c"
      },
      "outputs": [
        {
          "name": "stdout",
          "output_type": "stream",
          "text": [
            "<class 'int'>\n",
            "<class 'float'>\n",
            "<class 'bool'>\n"
          ]
        }
      ],
      "source": [
        "n1=9\n",
        "n2=6.7\n",
        "result=False\n",
        "print(type(n1))\n",
        "print(type(n2))\n",
        "print(type(result))"
      ]
    },
    {
      "cell_type": "code",
      "execution_count": null,
      "metadata": {
        "colab": {
          "base_uri": "https://localhost:8080/"
        },
        "id": "WGt9XDp6QkRL",
        "outputId": "fbbed66f-8c8d-47d3-f5f8-656445852bd8"
      },
      "outputs": [
        {
          "name": "stdout",
          "output_type": "stream",
          "text": [
            "10751144 10\n"
          ]
        }
      ],
      "source": [
        "n1=10\n",
        "print(id(n1),n1)"
      ]
    },
    {
      "cell_type": "code",
      "execution_count": null,
      "metadata": {
        "colab": {
          "base_uri": "https://localhost:8080/"
        },
        "id": "SXebmuN4Q7q6",
        "outputId": "0dbf8d0e-7b8e-40fc-ce61-db0817772932"
      },
      "outputs": [
        {
          "name": "stdout",
          "output_type": "stream",
          "text": [
            "True\n"
          ]
        }
      ],
      "source": [
        "print(True)"
      ]
    },
    {
      "cell_type": "code",
      "execution_count": null,
      "metadata": {
        "colab": {
          "base_uri": "https://localhost:8080/"
        },
        "id": "c0V6gPBeRMOf",
        "outputId": "7600080f-7612-48d0-a34b-c00b21b9faf9"
      },
      "outputs": [
        {
          "name": "stdout",
          "output_type": "stream",
          "text": [
            "2\n"
          ]
        }
      ],
      "source": [
        "print(True+True)"
      ]
    },
    {
      "cell_type": "code",
      "execution_count": null,
      "metadata": {
        "colab": {
          "base_uri": "https://localhost:8080/"
        },
        "id": "_IZZbMcfROvA",
        "outputId": "f3900ffc-3fa3-4879-846d-ee08f6bba9f1"
      },
      "outputs": [
        {
          "name": "stdout",
          "output_type": "stream",
          "text": [
            "1\n"
          ]
        }
      ],
      "source": [
        "print(False+True)"
      ]
    },
    {
      "cell_type": "code",
      "execution_count": null,
      "metadata": {
        "colab": {
          "base_uri": "https://localhost:8080/"
        },
        "id": "CjZOE782RSaH",
        "outputId": "30b04977-9543-4ea8-ba33-ef989ff9d24a"
      },
      "outputs": [
        {
          "name": "stdout",
          "output_type": "stream",
          "text": [
            "0\n"
          ]
        }
      ],
      "source": [
        "print(False*2)"
      ]
    },
    {
      "cell_type": "code",
      "execution_count": null,
      "metadata": {
        "colab": {
          "base_uri": "https://localhost:8080/"
        },
        "id": "3El1nfoWRd5L",
        "outputId": "6f001411-c855-4583-f606-0efbda37c14a"
      },
      "outputs": [
        {
          "name": "stdout",
          "output_type": "stream",
          "text": [
            "<class 'str'>\n",
            "<class 'str'>\n",
            "<class 'str'>\n"
          ]
        }
      ],
      "source": [
        "s1=\"parul\"\n",
        "s2=\"choudhary\"\n",
        "s3='@'\n",
        "print(type(s1))\n",
        "print(type(s2))\n",
        "print(type(s3))\n"
      ]
    },
    {
      "cell_type": "code",
      "execution_count": null,
      "metadata": {
        "colab": {
          "base_uri": "https://localhost:8080/"
        },
        "id": "v1cx3qzVR0Hs",
        "outputId": "c400a7b1-b678-4a54-d2b8-4743e2cb4d92"
      },
      "outputs": [
        {
          "name": "stdout",
          "output_type": "stream",
          "text": [
            "<class 'str'>\n"
          ]
        }
      ],
      "source": [
        "mytup=('abc')\n",
        "print(type(mytup))"
      ]
    },
    {
      "cell_type": "code",
      "execution_count": null,
      "metadata": {
        "colab": {
          "base_uri": "https://localhost:8080/"
        },
        "id": "l7xY3YnASxmS",
        "outputId": "1302beb5-3dbc-4461-a69c-b1b607cd5d55"
      },
      "outputs": [
        {
          "name": "stdout",
          "output_type": "stream",
          "text": [
            "<class 'str'>\n"
          ]
        }
      ],
      "source": [
        "mytup = \"abc\"\n",
        "print(type(mytup))"
      ]
    },
    {
      "cell_type": "code",
      "execution_count": null,
      "metadata": {
        "colab": {
          "base_uri": "https://localhost:8080/"
        },
        "id": "ovum745NS10m",
        "outputId": "5a9806ab-7137-4c8a-911b-c4a0245eefb8"
      },
      "outputs": [
        {
          "name": "stdout",
          "output_type": "stream",
          "text": [
            "134172555412480\n",
            "10750856\n"
          ]
        }
      ],
      "source": [
        "a=[1,2]\n",
        "print(id(a))\n",
        "print(id(a[0]))"
      ]
    },
    {
      "cell_type": "markdown",
      "metadata": {
        "id": "4mIRg4XOqJIM"
      },
      "source": [
        "SET"
      ]
    },
    {
      "cell_type": "code",
      "execution_count": null,
      "metadata": {
        "colab": {
          "base_uri": "https://localhost:8080/"
        },
        "id": "qte3qFjYpLoO",
        "outputId": "9ec17db1-179b-427e-a9f6-162856737886"
      },
      "outputs": [
        {
          "name": "stdout",
          "output_type": "stream",
          "text": [
            "{'abc', '#', 90}\n"
          ]
        }
      ],
      "source": [
        "set_1={'abc',90,90,'#'}\n",
        "print(set_1)"
      ]
    },
    {
      "cell_type": "markdown",
      "metadata": {
        "id": "A4EOzX89rCYC"
      },
      "source": [
        "INDEX"
      ]
    },
    {
      "cell_type": "code",
      "execution_count": null,
      "metadata": {
        "colab": {
          "base_uri": "https://localhost:8080/"
        },
        "id": "23PyboN4qSIV",
        "outputId": "314d7a68-ebcb-4f5d-a666-738f835b5322"
      },
      "outputs": [
        {
          "name": "stdout",
          "output_type": "stream",
          "text": [
            "w\n",
            "e\n",
            "m\n"
          ]
        }
      ],
      "source": [
        "d=\"welcome\"\n",
        "print(d[0])\n",
        "\n",
        "print(d[-1])\n",
        "\n",
        "print(d[-2])"
      ]
    },
    {
      "cell_type": "code",
      "execution_count": null,
      "metadata": {
        "colab": {
          "base_uri": "https://localhost:8080/"
        },
        "id": "ddAPyaI1rIJS",
        "outputId": "27a36e9b-f93f-4ef6-ab3f-1b56bc160c67"
      },
      "outputs": [
        {
          "name": "stdout",
          "output_type": "stream",
          "text": [
            "{10: 'xyz', 20: 'lmn', 'user': 'pqr'}\n"
          ]
        }
      ],
      "source": [
        "a={10:'xyz',20:'lmn','user':'pqr'}\n",
        "\n",
        "print(a)"
      ]
    },
    {
      "cell_type": "code",
      "execution_count": null,
      "metadata": {
        "colab": {
          "base_uri": "https://localhost:8080/"
        },
        "id": "fRjm55Fhr1wB",
        "outputId": "4a9786d9-eec1-4420-dfcd-7c9103f70965"
      },
      "outputs": [
        {
          "name": "stdout",
          "output_type": "stream",
          "text": [
            "100\n"
          ]
        }
      ],
      "source": [
        "a=100\n",
        "print(a)"
      ]
    },
    {
      "cell_type": "code",
      "execution_count": null,
      "metadata": {
        "colab": {
          "base_uri": "https://localhost:8080/"
        },
        "id": "TTKebmQds7PU",
        "outputId": "52a39b14-02b6-4363-ef6a-f2d03ddeda38"
      },
      "outputs": [
        {
          "name": "stdout",
          "output_type": "stream",
          "text": [
            "105\n"
          ]
        }
      ],
      "source": [
        "a+=5\n",
        "print(a)"
      ]
    },
    {
      "cell_type": "code",
      "execution_count": null,
      "metadata": {
        "colab": {
          "base_uri": "https://localhost:8080/"
        },
        "id": "44DNoO6StA8p",
        "outputId": "aabd84cf-23cc-4b0b-bc48-fc81e9394ae6"
      },
      "outputs": [
        {
          "name": "stdout",
          "output_type": "stream",
          "text": [
            "95\n"
          ]
        }
      ],
      "source": [
        "a-=10\n",
        "print(a)"
      ]
    },
    {
      "cell_type": "code",
      "execution_count": null,
      "metadata": {
        "colab": {
          "base_uri": "https://localhost:8080/"
        },
        "id": "uUO7MMsttJhG",
        "outputId": "7555a162-d6f3-4fa2-bcfc-7cdbbb88b5ba"
      },
      "outputs": [
        {
          "name": "stdout",
          "output_type": "stream",
          "text": [
            "31.666666666666668\n"
          ]
        }
      ],
      "source": [
        "a/=3\n",
        "print(a)"
      ]
    },
    {
      "cell_type": "code",
      "execution_count": null,
      "metadata": {
        "colab": {
          "base_uri": "https://localhost:8080/"
        },
        "id": "R9yhttCCtglU",
        "outputId": "b2473576-1cd9-434c-e94a-89f4d954fe5a"
      },
      "outputs": [
        {
          "name": "stdout",
          "output_type": "stream",
          "text": [
            "1.6666666666666679\n"
          ]
        }
      ],
      "source": [
        "a%=2\n",
        "print(a)"
      ]
    },
    {
      "cell_type": "code",
      "execution_count": null,
      "metadata": {
        "colab": {
          "base_uri": "https://localhost:8080/"
        },
        "id": "llx3oJZSt06e",
        "outputId": "298c26c3-dae7-48d7-d06e-b62371ef71bf"
      },
      "outputs": [
        {
          "data": {
            "text/plain": [
              "False"
            ]
          },
          "execution_count": 59,
          "metadata": {},
          "output_type": "execute_result"
        }
      ],
      "source": [
        "x=5\n",
        "y=7\n",
        "\n",
        "x==y"
      ]
    },
    {
      "cell_type": "code",
      "execution_count": null,
      "metadata": {
        "colab": {
          "base_uri": "https://localhost:8080/"
        },
        "id": "2hScnpOKt_Ef",
        "outputId": "36edbd3e-0b57-4135-f8e0-143f9bc9102d"
      },
      "outputs": [
        {
          "data": {
            "text/plain": [
              "True"
            ]
          },
          "execution_count": 60,
          "metadata": {},
          "output_type": "execute_result"
        }
      ],
      "source": [
        "x!=y"
      ]
    },
    {
      "cell_type": "code",
      "execution_count": null,
      "metadata": {
        "colab": {
          "base_uri": "https://localhost:8080/"
        },
        "id": "Q2BnX31VuIJE",
        "outputId": "40ae5384-326e-4634-8e10-5696cd7f3fc6"
      },
      "outputs": [
        {
          "data": {
            "text/plain": [
              "False"
            ]
          },
          "execution_count": 61,
          "metadata": {},
          "output_type": "execute_result"
        }
      ],
      "source": [
        "x>y"
      ]
    },
    {
      "cell_type": "code",
      "execution_count": null,
      "metadata": {
        "colab": {
          "base_uri": "https://localhost:8080/"
        },
        "id": "UVGNc13zuKCJ",
        "outputId": "1c773af7-f520-4272-8b35-b17c374a3270"
      },
      "outputs": [
        {
          "data": {
            "text/plain": [
              "True"
            ]
          },
          "execution_count": 62,
          "metadata": {},
          "output_type": "execute_result"
        }
      ],
      "source": [
        "x<y"
      ]
    },
    {
      "cell_type": "code",
      "execution_count": null,
      "metadata": {
        "colab": {
          "base_uri": "https://localhost:8080/"
        },
        "id": "X8CGiYpPuMIg",
        "outputId": "6d4e5df0-354b-42f0-e362-0bb8ae42a93f"
      },
      "outputs": [
        {
          "data": {
            "text/plain": [
              "False"
            ]
          },
          "execution_count": 63,
          "metadata": {},
          "output_type": "execute_result"
        }
      ],
      "source": [
        "x>=y"
      ]
    },
    {
      "cell_type": "code",
      "execution_count": null,
      "metadata": {
        "colab": {
          "base_uri": "https://localhost:8080/"
        },
        "id": "WZlGZdnNuOHU",
        "outputId": "8da6d9eb-1af8-4d40-90f0-589ad5a77cbb"
      },
      "outputs": [
        {
          "data": {
            "text/plain": [
              "False"
            ]
          },
          "execution_count": 64,
          "metadata": {},
          "output_type": "execute_result"
        }
      ],
      "source": [
        "x=200\n",
        "\n",
        "(x<500) and (x==0)"
      ]
    },
    {
      "cell_type": "code",
      "execution_count": null,
      "metadata": {
        "colab": {
          "base_uri": "https://localhost:8080/"
        },
        "id": "JMhQ_b6WuWt6",
        "outputId": "bcc30d43-34d6-4f21-d35b-68e0e981f4a0"
      },
      "outputs": [
        {
          "data": {
            "text/plain": [
              "True"
            ]
          },
          "execution_count": 65,
          "metadata": {},
          "output_type": "execute_result"
        }
      ],
      "source": [
        "not (x==0)"
      ]
    },
    {
      "cell_type": "code",
      "execution_count": null,
      "metadata": {
        "colab": {
          "base_uri": "https://localhost:8080/"
        },
        "id": "bM-hQfj0ufab",
        "outputId": "0771806e-e1db-4e51-ae06-04cc08b321a1"
      },
      "outputs": [
        {
          "data": {
            "text/plain": [
              "True"
            ]
          },
          "execution_count": 66,
          "metadata": {},
          "output_type": "execute_result"
        }
      ],
      "source": [
        "(x<500) or (x==0)"
      ]
    },
    {
      "cell_type": "code",
      "execution_count": null,
      "metadata": {
        "id": "vF_wguvwujnj"
      },
      "outputs": [],
      "source": [
        "p1=['@','$']\n",
        "p2=p1\n",
        "p3=['1','2']"
      ]
    },
    {
      "cell_type": "code",
      "execution_count": null,
      "metadata": {
        "colab": {
          "base_uri": "https://localhost:8080/"
        },
        "id": "wzbOeeKDuv-l",
        "outputId": "a9f85431-c1b5-4679-da4f-804f76380744"
      },
      "outputs": [
        {
          "data": {
            "text/plain": [
              "True"
            ]
          },
          "execution_count": 24,
          "metadata": {},
          "output_type": "execute_result"
        }
      ],
      "source": [
        "p1 is p2"
      ]
    },
    {
      "cell_type": "code",
      "execution_count": null,
      "metadata": {
        "colab": {
          "base_uri": "https://localhost:8080/"
        },
        "id": "weAhQSR1u6cV",
        "outputId": "a4bd2a3c-4afe-40aa-bcb4-04ffe3d8dc33"
      },
      "outputs": [
        {
          "data": {
            "text/plain": [
              "False"
            ]
          },
          "execution_count": 25,
          "metadata": {},
          "output_type": "execute_result"
        }
      ],
      "source": [
        "p1 is p3"
      ]
    },
    {
      "cell_type": "code",
      "execution_count": null,
      "metadata": {
        "colab": {
          "base_uri": "https://localhost:8080/"
        },
        "id": "nbxY1ySfvCOy",
        "outputId": "68508190-f624-4bb4-8feb-aa53a1e056c0"
      },
      "outputs": [
        {
          "data": {
            "text/plain": [
              "True"
            ]
          },
          "execution_count": 26,
          "metadata": {},
          "output_type": "execute_result"
        }
      ],
      "source": [
        "p1 is not p3"
      ]
    },
    {
      "cell_type": "code",
      "execution_count": null,
      "metadata": {
        "colab": {
          "base_uri": "https://localhost:8080/"
        },
        "id": "CcDUBSiSvGPq",
        "outputId": "fd46661a-9f9e-4082-8475-38a50ad04e62"
      },
      "outputs": [
        {
          "name": "stdout",
          "output_type": "stream",
          "text": [
            "<class 'str'>\n"
          ]
        }
      ],
      "source": [
        "n=\"10.5\"\n",
        "\n",
        "print(type(n))"
      ]
    },
    {
      "cell_type": "code",
      "execution_count": null,
      "metadata": {
        "colab": {
          "base_uri": "https://localhost:8080/"
        },
        "id": "6aT8ONmRv2vg",
        "outputId": "0409df9f-4788-4819-9b1d-87f078ec045e"
      },
      "outputs": [
        {
          "name": "stdout",
          "output_type": "stream",
          "text": [
            "<class 'float'>\n"
          ]
        }
      ],
      "source": [
        "n=float(n)\n",
        "print(type(n))"
      ]
    },
    {
      "cell_type": "code",
      "execution_count": null,
      "metadata": {
        "id": "XY94EN3bw_5p"
      },
      "outputs": [],
      "source": [
        "#Hands_on:\n",
        "#Numbers, Booleans and Equality"
      ]
    },
    {
      "cell_type": "code",
      "execution_count": null,
      "metadata": {
        "colab": {
          "base_uri": "https://localhost:8080/"
        },
        "id": "QS2MVsZUx-Ti",
        "outputId": "0ee35e94-6f4b-44d8-eb64-d80c21c0234e"
      },
      "outputs": [
        {
          "name": "stdout",
          "output_type": "stream",
          "text": [
            "7\n"
          ]
        }
      ],
      "source": [
        "#mathematical-expressions.py\n",
        "print(3 + 4)\n"
      ]
    },
    {
      "cell_type": "code",
      "execution_count": null,
      "metadata": {
        "colab": {
          "base_uri": "https://localhost:8080/"
        },
        "id": "U8nTrNNDyJxi",
        "outputId": "5c536dfd-6f02-42ae-fffb-f9feac7870f0"
      },
      "outputs": [
        {
          "name": "stdout",
          "output_type": "stream",
          "text": [
            "9.8\n"
          ]
        }
      ],
      "source": [
        "print(3.5 + 6.3)"
      ]
    },
    {
      "cell_type": "code",
      "execution_count": null,
      "metadata": {
        "colab": {
          "base_uri": "https://localhost:8080/"
        },
        "id": "Xtki3jEzyP7z",
        "outputId": "66a99102-9b46-417a-e703-07df40d52105"
      },
      "outputs": [
        {
          "name": "stdout",
          "output_type": "stream",
          "text": [
            "5\n"
          ]
        }
      ],
      "source": [
        "print(10 - 5)"
      ]
    },
    {
      "cell_type": "code",
      "execution_count": null,
      "metadata": {
        "id": "oykv408syRGl"
      },
      "outputs": [],
      "source": [
        "print(5 * 3)"
      ]
    },
    {
      "cell_type": "code",
      "execution_count": null,
      "metadata": {
        "colab": {
          "base_uri": "https://localhost:8080/"
        },
        "id": "VuWlx7ruyYSy",
        "outputId": "a6b4321d-41a1-4634-a4a2-35f156252ff7"
      },
      "outputs": [
        {
          "name": "stdout",
          "output_type": "stream",
          "text": [
            "Bacon\n"
          ]
        }
      ],
      "source": [
        "print(\"Ba\" + \"con\")"
      ]
    },
    {
      "cell_type": "code",
      "execution_count": null,
      "metadata": {
        "colab": {
          "base_uri": "https://localhost:8080/"
        },
        "id": "a5MOH0yvycBK",
        "outputId": "9b1c225d-b993-49df-f133-77d683378dcd"
      },
      "outputs": [
        {
          "name": "stdout",
          "output_type": "stream",
          "text": [
            "lolololololololololololololololololololololololololololololololololololololololololololololololololololololololololololololololo\n"
          ]
        }
      ],
      "source": [
        "print(\"lolo\" * 32)"
      ]
    },
    {
      "cell_type": "code",
      "execution_count": null,
      "metadata": {
        "colab": {
          "base_uri": "https://localhost:8080/"
        },
        "id": "N-qRBw9YyhCi",
        "outputId": "fcb918e9-46a0-4743-f191-db3624c0c751"
      },
      "outputs": [
        {
          "name": "stdout",
          "output_type": "stream",
          "text": [
            "13.8\n"
          ]
        }
      ],
      "source": [
        "print(10 + 3.8)"
      ]
    },
    {
      "cell_type": "code",
      "execution_count": null,
      "metadata": {
        "colab": {
          "base_uri": "https://localhost:8080/"
        },
        "id": "roWYFTwuykMK",
        "outputId": "1d1bb0f1-b720-478b-cc22-4e2d20a5d27e"
      },
      "outputs": [
        {
          "name": "stdout",
          "output_type": "stream",
          "text": [
            "125\n"
          ]
        }
      ],
      "source": [
        "print(5 ** 3)"
      ]
    },
    {
      "cell_type": "code",
      "execution_count": null,
      "metadata": {
        "colab": {
          "base_uri": "https://localhost:8080/"
        },
        "id": "BMo5chR3ynVy",
        "outputId": "f41ffcc6-e106-4f16-a46d-4458a7f692cc"
      },
      "outputs": [
        {
          "name": "stdout",
          "output_type": "stream",
          "text": [
            "256\n"
          ]
        }
      ],
      "source": [
        "print(4 ** 4)"
      ]
    },
    {
      "cell_type": "code",
      "execution_count": null,
      "metadata": {
        "colab": {
          "base_uri": "https://localhost:8080/"
        },
        "id": "1qODMGfEyqex",
        "outputId": "80ec07b0-b5aa-4623-a5fb-bdd9976e672b"
      },
      "outputs": [
        {
          "name": "stdout",
          "output_type": "stream",
          "text": [
            "18\n"
          ]
        }
      ],
      "source": [
        "print(3 + 5 * 3)"
      ]
    },
    {
      "cell_type": "code",
      "execution_count": null,
      "metadata": {
        "colab": {
          "base_uri": "https://localhost:8080/"
        },
        "id": "F1mbFG6ZyugJ",
        "outputId": "f1a99050-b853-442e-f6df-4d08f4a7eaab"
      },
      "outputs": [
        {
          "name": "stdout",
          "output_type": "stream",
          "text": [
            "24\n"
          ]
        }
      ],
      "source": [
        "print((3 + 5) * 3)"
      ]
    },
    {
      "cell_type": "code",
      "execution_count": null,
      "metadata": {
        "colab": {
          "base_uri": "https://localhost:8080/"
        },
        "id": "tf3fWfNezB_K",
        "outputId": "6699b42f-045b-42fa-f3b3-8a477917770f"
      },
      "outputs": [
        {
          "name": "stdout",
          "output_type": "stream",
          "text": [
            "5.0\n"
          ]
        }
      ],
      "source": [
        "#division-floor-division-and-the-modulo-operator.py\n",
        "print(15 / 3)\n",
        "\n"
      ]
    },
    {
      "cell_type": "code",
      "execution_count": null,
      "metadata": {
        "colab": {
          "base_uri": "https://localhost:8080/"
        },
        "id": "LiEIbstwzpRe",
        "outputId": "493a9de3-0ce2-4278-c11c-9ed5471e8dcf"
      },
      "outputs": [
        {
          "name": "stdout",
          "output_type": "stream",
          "text": [
            "4.666666666666667\n"
          ]
        }
      ],
      "source": [
        "print(14 / 3)"
      ]
    },
    {
      "cell_type": "code",
      "execution_count": null,
      "metadata": {
        "colab": {
          "base_uri": "https://localhost:8080/"
        },
        "id": "fe-Hpt79zwpC",
        "outputId": "bab41c48-212d-45af-a1e8-8c1f0387ce2f"
      },
      "outputs": [
        {
          "name": "stdout",
          "output_type": "stream",
          "text": [
            "4\n"
          ]
        }
      ],
      "source": [
        "print(14 // 3)"
      ]
    },
    {
      "cell_type": "code",
      "execution_count": null,
      "metadata": {
        "colab": {
          "base_uri": "https://localhost:8080/"
        },
        "id": "0d76Jol4z1Tq",
        "outputId": "0bcfe139-ba8f-44ea-e152-4e5f4b14a4af"
      },
      "outputs": [
        {
          "name": "stdout",
          "output_type": "stream",
          "text": [
            "-5\n"
          ]
        }
      ],
      "source": [
        "print(-14 // 3)"
      ]
    },
    {
      "cell_type": "code",
      "execution_count": null,
      "metadata": {
        "colab": {
          "base_uri": "https://localhost:8080/"
        },
        "id": "ojKj1fKNz6ES",
        "outputId": "b9f56407-c32a-439b-fc9e-30c1c5991bf0"
      },
      "outputs": [
        {
          "name": "stdout",
          "output_type": "stream",
          "text": [
            "2\n"
          ]
        }
      ],
      "source": [
        "print(14 % 3)"
      ]
    },
    {
      "cell_type": "code",
      "execution_count": null,
      "metadata": {
        "colab": {
          "base_uri": "https://localhost:8080/"
        },
        "id": "tBDBcKxvz-ox",
        "outputId": "a3980f12-2cdb-41e6-d057-115cb6940cac"
      },
      "outputs": [
        {
          "name": "stdout",
          "output_type": "stream",
          "text": [
            "0\n"
          ]
        }
      ],
      "source": [
        "print(15 % 3)"
      ]
    },
    {
      "cell_type": "code",
      "execution_count": null,
      "metadata": {
        "colab": {
          "base_uri": "https://localhost:8080/"
        },
        "id": "gSnAgjAs0C1J",
        "outputId": "eaf54fe0-107f-43cb-df25-1c6de72bcfc3"
      },
      "outputs": [
        {
          "name": "stdout",
          "output_type": "stream",
          "text": [
            "1\n"
          ]
        }
      ],
      "source": [
        "print(16 % 3)"
      ]
    },
    {
      "cell_type": "code",
      "execution_count": null,
      "metadata": {
        "colab": {
          "base_uri": "https://localhost:8080/"
        },
        "id": "AtFDR_530GxB",
        "outputId": "40904968-32ee-48a3-d49b-70b29ac136a0"
      },
      "outputs": [
        {
          "name": "stdout",
          "output_type": "stream",
          "text": [
            "1\n"
          ]
        }
      ],
      "source": [
        "print(1 % 3)"
      ]
    },
    {
      "cell_type": "code",
      "execution_count": null,
      "metadata": {
        "colab": {
          "base_uri": "https://localhost:8080/"
        },
        "id": "DSqT9K570LQp",
        "outputId": "436f9864-c127-4c0c-9f01-250d538d4fd2"
      },
      "outputs": [
        {
          "name": "stdout",
          "output_type": "stream",
          "text": [
            "2\n"
          ]
        }
      ],
      "source": [
        "print(2 % 3)"
      ]
    },
    {
      "cell_type": "code",
      "execution_count": null,
      "metadata": {
        "colab": {
          "base_uri": "https://localhost:8080/"
        },
        "id": "ameb2rcs0PJ5",
        "outputId": "7c088f76-e1ca-48cb-a845-1364236144e1"
      },
      "outputs": [
        {
          "name": "stdout",
          "output_type": "stream",
          "text": [
            "0\n"
          ]
        }
      ],
      "source": [
        "print(3 % 3)"
      ]
    },
    {
      "cell_type": "markdown",
      "metadata": {
        "id": "FMxyLCYz1ndS"
      },
      "source": [
        "#the-boolean-data-type.py (Part 1)"
      ]
    },
    {
      "cell_type": "code",
      "execution_count": null,
      "metadata": {
        "colab": {
          "base_uri": "https://localhost:8080/"
        },
        "id": "wGl1eqbI0qc5",
        "outputId": "4e3082df-beda-4ead-c715-f5b0d79e4e06"
      },
      "outputs": [
        {
          "name": "stdout",
          "output_type": "stream",
          "text": [
            "False\n"
          ]
        }
      ],
      "source": [
        "print(False)"
      ]
    },
    {
      "cell_type": "code",
      "execution_count": null,
      "metadata": {
        "colab": {
          "base_uri": "https://localhost:8080/"
        },
        "id": "uNbIOF3S0sAh",
        "outputId": "07f602fa-c8f1-4fa1-dde6-3f3fd72c1b65"
      },
      "outputs": [
        {
          "name": "stdout",
          "output_type": "stream",
          "text": [
            "True\n"
          ]
        }
      ],
      "source": [
        "print(True)"
      ]
    },
    {
      "cell_type": "code",
      "execution_count": null,
      "metadata": {
        "colab": {
          "base_uri": "https://localhost:8080/"
        },
        "id": "yNPscgGp0xFB",
        "outputId": "96d1fe6d-c84a-4cac-8d73-e0739a7ecf62"
      },
      "outputs": [
        {
          "name": "stdout",
          "output_type": "stream",
          "text": [
            "False\n"
          ]
        }
      ],
      "source": [
        "print(\"False\")"
      ]
    },
    {
      "cell_type": "code",
      "execution_count": null,
      "metadata": {
        "colab": {
          "base_uri": "https://localhost:8080/"
        },
        "id": "B16ti9QE00Fx",
        "outputId": "7f90d391-1f2d-4005-ab25-6bf317a90a0e"
      },
      "outputs": [
        {
          "name": "stdout",
          "output_type": "stream",
          "text": [
            "True\n"
          ]
        }
      ],
      "source": [
        "print(\"True\")"
      ]
    },
    {
      "cell_type": "code",
      "execution_count": null,
      "metadata": {
        "colab": {
          "base_uri": "https://localhost:8080/"
        },
        "id": "zI5pvJgH07Ka",
        "outputId": "2bb16c36-6698-402b-d22d-ea268c0b40ac"
      },
      "outputs": [
        {
          "name": "stdout",
          "output_type": "stream",
          "text": [
            "True\n"
          ]
        }
      ],
      "source": [
        "print(5 == 5)"
      ]
    },
    {
      "cell_type": "code",
      "execution_count": null,
      "metadata": {
        "colab": {
          "base_uri": "https://localhost:8080/"
        },
        "id": "cDS9nfo208oj",
        "outputId": "822ab51a-57e3-4150-8ddf-17ee188088f2"
      },
      "outputs": [
        {
          "name": "stdout",
          "output_type": "stream",
          "text": [
            "False\n"
          ]
        }
      ],
      "source": [
        "print(5 == 8)"
      ]
    },
    {
      "cell_type": "code",
      "execution_count": null,
      "metadata": {
        "colab": {
          "base_uri": "https://localhost:8080/"
        },
        "id": "izlhew0f1Bvz",
        "outputId": "d05c1a27-d813-4394-c85f-7311392f134b"
      },
      "outputs": [
        {
          "name": "stdout",
          "output_type": "stream",
          "text": [
            "True\n"
          ]
        }
      ],
      "source": [
        "print(8.3 == 8.3)"
      ]
    },
    {
      "cell_type": "code",
      "execution_count": null,
      "metadata": {
        "colab": {
          "base_uri": "https://localhost:8080/"
        },
        "id": "42-Qa-4s1GbJ",
        "outputId": "3f272c7d-1ad4-4f3c-b851-179fdef6bfcf"
      },
      "outputs": [
        {
          "name": "stdout",
          "output_type": "stream",
          "text": [
            "False\n"
          ]
        }
      ],
      "source": [
        "print(8.3 == 4.1)"
      ]
    },
    {
      "cell_type": "code",
      "execution_count": null,
      "metadata": {
        "colab": {
          "base_uri": "https://localhost:8080/"
        },
        "id": "BHfOYcKK1Kih",
        "outputId": "cf89f7b8-5e9d-4ebe-d12c-dddb6f4c1134"
      },
      "outputs": [
        {
          "name": "stdout",
          "output_type": "stream",
          "text": [
            "False\n"
          ]
        }
      ],
      "source": [
        "print(5 == \"5\")"
      ]
    },
    {
      "cell_type": "code",
      "execution_count": null,
      "metadata": {
        "colab": {
          "base_uri": "https://localhost:8080/"
        },
        "id": "GqUGQEZ71OvJ",
        "outputId": "50571e8c-3107-462c-9b00-e76b4ba1f0b0"
      },
      "outputs": [
        {
          "name": "stdout",
          "output_type": "stream",
          "text": [
            "True\n"
          ]
        }
      ],
      "source": [
        "print(\"ham\" == \"ham\")"
      ]
    },
    {
      "cell_type": "code",
      "execution_count": null,
      "metadata": {
        "colab": {
          "base_uri": "https://localhost:8080/"
        },
        "id": "Sv20kb2A1Ssz",
        "outputId": "988e08aa-5e54-4a27-c041-ea347e17b5d5"
      },
      "outputs": [
        {
          "name": "stdout",
          "output_type": "stream",
          "text": [
            "False\n"
          ]
        }
      ],
      "source": [
        "print(\"ham\" == \"bacon\")"
      ]
    },
    {
      "cell_type": "code",
      "execution_count": null,
      "metadata": {
        "colab": {
          "base_uri": "https://localhost:8080/"
        },
        "id": "G2hunh5F1Wn6",
        "outputId": "e1a46200-fa6f-4055-8eaa-84ec730f6998"
      },
      "outputs": [
        {
          "name": "stdout",
          "output_type": "stream",
          "text": [
            "False\n"
          ]
        }
      ],
      "source": [
        "print(\"ham\" == \"Ham\")"
      ]
    },
    {
      "cell_type": "code",
      "execution_count": null,
      "metadata": {
        "colab": {
          "base_uri": "https://localhost:8080/"
        },
        "id": "Y874myoE1anz",
        "outputId": "c2a2746b-417c-4648-ea1d-0b8ff8d09663"
      },
      "outputs": [
        {
          "name": "stdout",
          "output_type": "stream",
          "text": [
            "True\n"
          ]
        }
      ],
      "source": [
        "print(\"5\" == \"5\")"
      ]
    },
    {
      "cell_type": "code",
      "execution_count": null,
      "metadata": {
        "colab": {
          "base_uri": "https://localhost:8080/"
        },
        "id": "XdfXINV31fAh",
        "outputId": "1307bc65-1659-4216-bcc3-e4c7bdcb1147"
      },
      "outputs": [
        {
          "name": "stdout",
          "output_type": "stream",
          "text": [
            "True\n"
          ]
        }
      ],
      "source": [
        "print(\"\" == \"\")"
      ]
    },
    {
      "cell_type": "code",
      "execution_count": null,
      "metadata": {
        "colab": {
          "base_uri": "https://localhost:8080/"
        },
        "id": "ofRvfD1k1jC6",
        "outputId": "c76327e0-2138-4584-dc4a-b4d81bf74294"
      },
      "outputs": [
        {
          "name": "stdout",
          "output_type": "stream",
          "text": [
            "True\n"
          ]
        }
      ],
      "source": [
        "print(\"!==*\" == \"!==*\")"
      ]
    },
    {
      "cell_type": "markdown",
      "metadata": {
        "id": "p-W579_l1sB6"
      },
      "source": [
        "#the-boolean-data-type.py (Part 2)"
      ]
    },
    {
      "cell_type": "code",
      "execution_count": null,
      "metadata": {
        "colab": {
          "base_uri": "https://localhost:8080/"
        },
        "id": "NGpfCqMv0frh",
        "outputId": "55c64071-7e03-4ab2-8ce2-aa9bf6549fd7"
      },
      "outputs": [
        {
          "name": "stdout",
          "output_type": "stream",
          "text": [
            "True\n"
          ]
        }
      ],
      "source": [
        "print(5 == 5.0)\n",
        "\n",
        "\n",
        "\n"
      ]
    },
    {
      "cell_type": "code",
      "execution_count": null,
      "metadata": {
        "colab": {
          "base_uri": "https://localhost:8080/"
        },
        "id": "Hpn0OownwBTR",
        "outputId": "8830db86-4e72-41cb-9a49-7eef9461f5cd"
      },
      "outputs": [
        {
          "name": "stdout",
          "output_type": "stream",
          "text": [
            "False\n"
          ]
        }
      ],
      "source": [
        "print(5 == 5.1)"
      ]
    },
    {
      "cell_type": "code",
      "execution_count": null,
      "metadata": {
        "colab": {
          "base_uri": "https://localhost:8080/"
        },
        "id": "7Rhas6mLwFvB",
        "outputId": "6f7b935b-26ea-450a-db23-f2765aafe435"
      },
      "outputs": [
        {
          "name": "stdout",
          "output_type": "stream",
          "text": [
            "True\n"
          ]
        }
      ],
      "source": [
        "print(True == True)"
      ]
    },
    {
      "cell_type": "code",
      "execution_count": null,
      "metadata": {
        "colab": {
          "base_uri": "https://localhost:8080/"
        },
        "id": "rgHmqqWowIiJ",
        "outputId": "34cc6762-f46d-49a0-c45d-29eba2a232e7"
      },
      "outputs": [
        {
          "name": "stdout",
          "output_type": "stream",
          "text": [
            "True\n"
          ]
        }
      ],
      "source": [
        "\n",
        "print(False == False)"
      ]
    },
    {
      "cell_type": "code",
      "execution_count": null,
      "metadata": {
        "colab": {
          "base_uri": "https://localhost:8080/"
        },
        "id": "jH1Xnr-ywOAW",
        "outputId": "bec7ebff-2990-4184-fe74-b41914d62609"
      },
      "outputs": [
        {
          "name": "stdout",
          "output_type": "stream",
          "text": [
            "False\n"
          ]
        }
      ],
      "source": [
        "print(True == False)"
      ]
    },
    {
      "cell_type": "code",
      "execution_count": null,
      "metadata": {
        "colab": {
          "base_uri": "https://localhost:8080/"
        },
        "id": "X4f1smYWwR0A",
        "outputId": "9f257cff-7c3d-4eae-871b-3bddc823c3e7"
      },
      "outputs": [
        {
          "name": "stdout",
          "output_type": "stream",
          "text": [
            "True\n"
          ]
        }
      ],
      "source": [
        "print(10 != 8)"
      ]
    },
    {
      "cell_type": "code",
      "execution_count": null,
      "metadata": {
        "colab": {
          "base_uri": "https://localhost:8080/"
        },
        "id": "wEwL8XMVwWv5",
        "outputId": "932c7f1c-d80b-452d-915e-85cb91cf9c1f"
      },
      "outputs": [
        {
          "name": "stdout",
          "output_type": "stream",
          "text": [
            "False\n"
          ]
        }
      ],
      "source": [
        "print(10 != 10)"
      ]
    },
    {
      "cell_type": "code",
      "execution_count": null,
      "metadata": {
        "colab": {
          "base_uri": "https://localhost:8080/"
        },
        "id": "9OzJ9XghwbPC",
        "outputId": "5d961167-0163-4e21-a38f-423ac26401ba"
      },
      "outputs": [
        {
          "name": "stdout",
          "output_type": "stream",
          "text": [
            "False\n"
          ]
        }
      ],
      "source": [
        "print(\"music\" != \"music\")"
      ]
    },
    {
      "cell_type": "code",
      "execution_count": null,
      "metadata": {
        "colab": {
          "base_uri": "https://localhost:8080/"
        },
        "id": "xB7OLwkLwfCZ",
        "outputId": "40ad7edf-3986-437a-ff6e-aa2c112416e4"
      },
      "outputs": [
        {
          "name": "stdout",
          "output_type": "stream",
          "text": [
            "True\n"
          ]
        }
      ],
      "source": [
        "print(\"music\" != \"noise\")"
      ]
    },
    {
      "cell_type": "code",
      "execution_count": null,
      "metadata": {
        "colab": {
          "base_uri": "https://localhost:8080/"
        },
        "id": "UEs1IwG5wicJ",
        "outputId": "355783ec-5d8f-4978-c6bd-e24891059d6f"
      },
      "outputs": [
        {
          "name": "stdout",
          "output_type": "stream",
          "text": [
            "True\n"
          ]
        }
      ],
      "source": [
        "print(\"music\" != \"Music\")"
      ]
    },
    {
      "cell_type": "code",
      "execution_count": null,
      "metadata": {
        "colab": {
          "base_uri": "https://localhost:8080/"
        },
        "id": "DmUkCMsqwmKy",
        "outputId": "a1a2b291-d580-4696-b1c5-ea6fbb2ca846"
      },
      "outputs": [
        {
          "name": "stdout",
          "output_type": "stream",
          "text": [
            "True\n"
          ]
        }
      ],
      "source": [
        "print(10 != \"10\")"
      ]
    },
    {
      "cell_type": "code",
      "execution_count": null,
      "metadata": {
        "colab": {
          "base_uri": "https://localhost:8080/"
        },
        "id": "LEoZPT3bwp2S",
        "outputId": "c38250e4-317d-413a-8fc8-38079b7209fb"
      },
      "outputs": [
        {
          "name": "stdout",
          "output_type": "stream",
          "text": [
            "True\n"
          ]
        }
      ],
      "source": [
        "print(8.3 != 9.8)"
      ]
    },
    {
      "cell_type": "code",
      "execution_count": null,
      "metadata": {
        "colab": {
          "base_uri": "https://localhost:8080/"
        },
        "id": "EuXOx4e7wv9C",
        "outputId": "ea0d99f9-f3b1-468d-b418-c8719d059c6d"
      },
      "outputs": [
        {
          "name": "stdout",
          "output_type": "stream",
          "text": [
            "False\n"
          ]
        }
      ],
      "source": [
        "print(3.0 != 3)"
      ]
    },
    {
      "cell_type": "code",
      "execution_count": null,
      "metadata": {
        "colab": {
          "base_uri": "https://localhost:8080/"
        },
        "id": "p1_4AqbyB-av",
        "outputId": "dd834d5d-961a-44cd-82e2-2b23910fc6bf"
      },
      "outputs": [
        {
          "name": "stdout",
          "output_type": "stream",
          "text": [
            "False\n"
          ]
        }
      ],
      "source": [
        "print(3.0 != 3)"
      ]
    },
    {
      "cell_type": "markdown",
      "metadata": {
        "id": "VU6DzhwNCF2X"
      },
      "source": [
        "#boolean-mathematical-operators.py"
      ]
    },
    {
      "cell_type": "code",
      "execution_count": null,
      "metadata": {
        "id": "XP_rbBy314_K"
      },
      "outputs": [],
      "source": [
        "#print(5 < 8)\n",
        "#print(10 < 7)\n",
        "#print(8 <= 8)\n",
        "#print(8 <= 11)\n",
        "#print(8 <= 7)\n",
        "#print(9 > 5)\n",
        "#print(10 > 20)\n",
        "#print(9 >= 9)\n",
        "#print(9 >= 5)\n",
        "#print(9 >= 10)\n",
        "#print(5 < 8 <= 10)\n",
        "#print(5 < 8 <= 7)\n",
        "\n",
        "#the-type-function.py (Part 2)\n",
        "#\n",
        "#print(type(5) == type(10))\n",
        "#print(type(\"computer\") == type(\"laptop\"))\n",
        "#print(type(5) == type(5.0))\n",
        "#print(type(5) == type(\"5\"))\n",
        "#print(type(True))\n",
        "#print(type(False))\n",
        "#print(type(True) == type(False))\n",
        "#\n",
        "#type-conversion-with-the-int-float-and-str-functions.py\n",
        "#\n",
        "#\n",
        "#print(int(3.14))\n",
        "#print(int(3.99))\n",
        "#print(int(\"3\"))\n",
        "#print(int(3))\n",
        "#print(float(5))\n",
        "#print(float(\"10.32\"))\n",
        "#print(float(5.23))\n",
        "#print(str(5.35))\n",
        "#print(str(5))\n",
        "#print(str(\"Hello\"))\n",
        "#print(str(5) + \"Hello\")\n",
        "#print(3 + 3)\n",
        "#print(4.3 + 5.7)\n",
        "#print(3 + 5.8)\n",
        "#\n",
        "#intro-to-variables.py (Part 1)\n",
        "#name = \"Boris\"\n",
        "#age = 27\n",
        "#handsome = True\n",
        "#favorite_language = \"Python\"\n",
        "#print(name)\n",
        "#print(handsome)\n",
        "## print(occupation)\n",
        "#print(age + 4)\n",
        "#print(\"My name is\", name, \"and I am\", age, \"years old\")\n",
        "#age = 23\n",
        "#print(age)\n",
        "#age = 27 + 10\n",
        "#print(age)"
      ]
    },
    {
      "cell_type": "markdown",
      "metadata": {
        "id": "kn_V3oF_CTiH"
      },
      "source": [
        "#the-type-function.py (Part 1)"
      ]
    },
    {
      "cell_type": "code",
      "execution_count": null,
      "metadata": {
        "colab": {
          "base_uri": "https://localhost:8080/"
        },
        "id": "zHsAADXgCNuf",
        "outputId": "7b7eca65-0d1f-4989-9eb6-dec7fc1574b3"
      },
      "outputs": [
        {
          "name": "stdout",
          "output_type": "stream",
          "text": [
            "<class 'int'>\n"
          ]
        }
      ],
      "source": [
        "print(type(5))\n"
      ]
    },
    {
      "cell_type": "code",
      "execution_count": null,
      "metadata": {
        "colab": {
          "base_uri": "https://localhost:8080/"
        },
        "id": "4HYJcZNICYOn",
        "outputId": "966edc97-3961-4e91-f2d0-b2a892b33386"
      },
      "outputs": [
        {
          "name": "stdout",
          "output_type": "stream",
          "text": [
            "<class 'int'>\n"
          ]
        }
      ],
      "source": [
        "print(type(10))"
      ]
    },
    {
      "cell_type": "code",
      "execution_count": null,
      "metadata": {
        "colab": {
          "base_uri": "https://localhost:8080/"
        },
        "id": "NZCuBMESCcNX",
        "outputId": "3690ccdf-ff5d-4ff9-9f0b-7eecc6197dc1"
      },
      "outputs": [
        {
          "name": "stdout",
          "output_type": "stream",
          "text": [
            "<class 'float'>\n"
          ]
        }
      ],
      "source": [
        "print(type(3.8))"
      ]
    },
    {
      "cell_type": "code",
      "execution_count": null,
      "metadata": {
        "colab": {
          "base_uri": "https://localhost:8080/"
        },
        "id": "qgKO9Vt5Ces4",
        "outputId": "4c7effab-ebe6-484d-dbfc-692c0e4adf9d"
      },
      "outputs": [
        {
          "name": "stdout",
          "output_type": "stream",
          "text": [
            "<class 'float'>\n"
          ]
        }
      ],
      "source": [
        "print(type(5.0))"
      ]
    },
    {
      "cell_type": "code",
      "execution_count": null,
      "metadata": {
        "colab": {
          "base_uri": "https://localhost:8080/"
        },
        "id": "1fLfwwsTCiLo",
        "outputId": "cb905600-e59a-420d-a288-a312b37df9fc"
      },
      "outputs": [
        {
          "name": "stdout",
          "output_type": "stream",
          "text": [
            "<class 'str'>\n"
          ]
        }
      ],
      "source": [
        "print(type(\"computer\"))"
      ]
    },
    {
      "cell_type": "code",
      "execution_count": null,
      "metadata": {
        "colab": {
          "base_uri": "https://localhost:8080/"
        },
        "id": "hwrzkTgdCl4o",
        "outputId": "64f5e530-688f-4016-e4ef-27c9eed1777f"
      },
      "outputs": [
        {
          "name": "stdout",
          "output_type": "stream",
          "text": [
            "<class 'str'>\n"
          ]
        }
      ],
      "source": [
        "print(type(\"laptop\"))"
      ]
    },
    {
      "cell_type": "code",
      "execution_count": null,
      "metadata": {
        "id": "9heK2xWUCmth"
      },
      "outputs": [],
      "source": []
    }
  ],
  "metadata": {
    "colab": {
      "provenance": []
    },
    "kernelspec": {
      "display_name": ".venv",
      "language": "python",
      "name": "python3"
    },
    "language_info": {
      "codemirror_mode": {
        "name": "ipython",
        "version": 3
      },
      "file_extension": ".py",
      "mimetype": "text/x-python",
      "name": "python",
      "nbconvert_exporter": "python",
      "pygments_lexer": "ipython3",
      "version": "3.13.4"
    }
  },
  "nbformat": 4,
  "nbformat_minor": 0
}
